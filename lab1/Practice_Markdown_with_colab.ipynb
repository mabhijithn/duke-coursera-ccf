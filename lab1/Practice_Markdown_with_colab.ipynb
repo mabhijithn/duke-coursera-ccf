{
  "cells": [
    {
      "cell_type": "markdown",
      "metadata": {
        "id": "view-in-github",
        "colab_type": "text"
      },
      "source": [
        "<a href=\"https://colab.research.google.com/github/mabhijithn/duke-coursera-ccf/blob/main/Practice_Markdown_with_colab.ipynb\" target=\"_parent\"><img src=\"https://colab.research.google.com/assets/colab-badge.svg\" alt=\"Open In Colab\"/></a>"
      ]
    },
    {
      "cell_type": "markdown",
      "metadata": {
        "id": "b-o9a0gEBaXX"
      },
      "source": [
        "## Practice Markdown"
      ]
    },
    {
      "cell_type": "markdown",
      "metadata": {
        "id": "FnjPoFxoBaXb"
      },
      "source": [
        "This notebook lets you experiment with producing repeatable technical documentation.  Use this notebook to do the following actions:\n",
        "\n",
        "* Create a code cell and print a Python Hello World statement:  `print(\"hello world\")`\n",
        "* Create a Markdown Cell and add a Title using `#` and then a statement using plain text.  You can looks at the source code for this cell to get an idea of how to use Markdown.\n",
        "* Take some ideas from the [Master Markdown Github Guide](https://guides.github.com/features/mastering-markdown/) and implement them here.\n",
        "* Download this notebook as a `.ipynb` file and check into a Github Project.  You can [see an example here](https://github.com/noahgift/duke-coursera-ccf-lab1/blob/main/Practice-Markdown.ipynb).\n",
        "* Open your notebook in Google Colab and save it into the same Github Project.  You can [see an example here](https://github.com/noahgift/duke-coursera-ccf-lab1/blob/main/Practice_Markdown_with_colab.ipynb).\n"
      ]
    },
    {
      "cell_type": "code",
      "execution_count": null,
      "metadata": {
        "id": "8B40KJBuBaXc",
        "outputId": "c87606e8-d687-4115-a365-5fa5127cce08"
      },
      "outputs": [
        {
          "name": "stdout",
          "output_type": "stream",
          "text": [
            "hello world\n"
          ]
        }
      ],
      "source": [
        "print(\"hello world\")"
      ]
    },
    {
      "cell_type": "markdown",
      "metadata": {
        "id": "PIGrZlM3BaXe"
      },
      "source": [
        "# This is a big heading\n",
        "\n",
        "## This is a smaller heading\n",
        "\n",
        "You can also integrate code into a line like this `print(\"hello world\")`.\n",
        "\n",
        "You can write a block of code like this:\n",
        "\n",
        "```\n",
        "def hello_world():\n",
        "    print(\"hello world\")\n",
        "```"
      ]
    },
    {
      "cell_type": "markdown",
      "source": [
        "Attaching an image is very easy ![like this](https://user-images.githubusercontent.com/5366434/188651066-4f3e296e-4886-4f09-8256-44c4fa558b90.jpg)"
      ],
      "metadata": {
        "id": "MqsBHjWMGKqx"
      }
    },
    {
      "cell_type": "markdown",
      "source": [
        "## Building Cloud Computing Solutions at Scale\n",
        "\n",
        "### Courses\n",
        "\n",
        " - [x] Cloud Computing Foundations\n",
        " - [ ] Cloud Virtualization, Containers and APIs\n",
        " - [ ] Cloud Data Engineering\n",
        " - [ ] Cloud Machine Learning Engineering and MLOps"
      ],
      "metadata": {
        "id": "X-jzqDgPGP35"
      }
    },
    {
      "cell_type": "markdown",
      "source": [],
      "metadata": {
        "id": "f-zKPS10GR1x"
      }
    },
    {
      "cell_type": "code",
      "source": [],
      "metadata": {
        "id": "KWY14D1LF_g0"
      },
      "execution_count": null,
      "outputs": []
    }
  ],
  "metadata": {
    "kernelspec": {
      "display_name": "Python 3",
      "language": "python",
      "name": "python3"
    },
    "language_info": {
      "codemirror_mode": {
        "name": "ipython",
        "version": 3
      },
      "file_extension": ".py",
      "mimetype": "text/x-python",
      "name": "python",
      "nbconvert_exporter": "python",
      "pygments_lexer": "ipython3",
      "version": "3.7.6"
    },
    "colab": {
      "provenance": [],
      "include_colab_link": true
    }
  },
  "nbformat": 4,
  "nbformat_minor": 0
}